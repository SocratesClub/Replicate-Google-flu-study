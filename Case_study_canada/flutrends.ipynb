{
 "cells": [
  {
   "cell_type": "code",
   "execution_count": 1,
   "metadata": {
    "ExecuteTime": {
     "end_time": "2021-01-08T09:15:14.017209Z",
     "start_time": "2021-01-08T09:15:11.782573Z"
    }
   },
   "outputs": [],
   "source": [
    "import pandas as pd\n",
    "import numpy\n",
    "import matplotlib.pylab as plt\n",
    "import statsmodels.api as sm\n",
    "import statsmodels.formula.api as smf\n",
    "import statsmodels.graphics.regressionplots as modelPlot"
   ]
  },
  {
   "cell_type": "code",
   "execution_count": 2,
   "metadata": {
    "ExecuteTime": {
     "end_time": "2021-01-08T09:15:15.380814Z",
     "start_time": "2021-01-08T09:15:14.906816Z"
    }
   },
   "outputs": [],
   "source": [
    "fluTrends = pd.read_excel('fluTrends.xlsx')\n",
    "searchTerms = pd.read_excel('searchTerms.xlsx')\n",
    "for i in range(0,len(searchTerms['Week'])):\n",
    "\ta = searchTerms.iat[i,0]\n",
    "\ta = numpy.datetime64(a[0:a.index(' ')])\n",
    "\tsearchTerms.iat[i,0] = a"
   ]
  },
  {
   "cell_type": "code",
   "execution_count": 3,
   "metadata": {
    "ExecuteTime": {
     "end_time": "2021-01-08T09:15:16.663346Z",
     "start_time": "2021-01-08T09:15:16.659802Z"
    }
   },
   "outputs": [],
   "source": [
    "searchTerms.rename(columns = dict(Week='Date'),inplace=True)"
   ]
  },
  {
   "cell_type": "code",
   "execution_count": 4,
   "metadata": {
    "ExecuteTime": {
     "end_time": "2021-01-08T09:15:17.597280Z",
     "start_time": "2021-01-08T09:15:17.581684Z"
    }
   },
   "outputs": [],
   "source": [
    "searchTerms.set_index(['Date'],inplace=True)\n",
    "fluTrends.set_index(['Date'],inplace=True)\n",
    "fluTrends['Canada'] = fluTrends['Canada'] / max(fluTrends['Canada']) * 100"
   ]
  },
  {
   "cell_type": "code",
   "execution_count": 5,
   "metadata": {
    "ExecuteTime": {
     "end_time": "2021-01-08T09:15:18.424751Z",
     "start_time": "2021-01-08T09:15:18.411904Z"
    },
    "lines_to_next_cell": 2
   },
   "outputs": [],
   "source": [
    "data = pd.concat([fluTrends['Canada'],searchTerms],axis=1)\n",
    "data = data.dropna(how='any')"
   ]
  },
  {
   "cell_type": "code",
   "execution_count": 8,
   "metadata": {
    "ExecuteTime": {
     "end_time": "2021-01-08T09:16:18.829971Z",
     "start_time": "2021-01-08T09:16:18.814988Z"
    }
   },
   "outputs": [
    {
     "data": {
      "text/html": [
       "<div>\n",
       "<style scoped>\n",
       "    .dataframe tbody tr th:only-of-type {\n",
       "        vertical-align: middle;\n",
       "    }\n",
       "\n",
       "    .dataframe tbody tr th {\n",
       "        vertical-align: top;\n",
       "    }\n",
       "\n",
       "    .dataframe thead th {\n",
       "        text-align: right;\n",
       "    }\n",
       "</style>\n",
       "<table border=\"1\" class=\"dataframe\">\n",
       "  <thead>\n",
       "    <tr style=\"text-align: right;\">\n",
       "      <th></th>\n",
       "      <th>Canada</th>\n",
       "      <th>soreThroat</th>\n",
       "      <th>diarrhea</th>\n",
       "      <th>cough</th>\n",
       "      <th>fever</th>\n",
       "      <th>flu</th>\n",
       "    </tr>\n",
       "    <tr>\n",
       "      <th>Date</th>\n",
       "      <th></th>\n",
       "      <th></th>\n",
       "      <th></th>\n",
       "      <th></th>\n",
       "      <th></th>\n",
       "      <th></th>\n",
       "    </tr>\n",
       "  </thead>\n",
       "  <tbody>\n",
       "    <tr>\n",
       "      <th>2004-01-04</th>\n",
       "      <td>37.665153</td>\n",
       "      <td>16.0</td>\n",
       "      <td>0.0</td>\n",
       "      <td>24.0</td>\n",
       "      <td>29.0</td>\n",
       "      <td>3.0</td>\n",
       "    </tr>\n",
       "    <tr>\n",
       "      <th>2004-01-11</th>\n",
       "      <td>29.582989</td>\n",
       "      <td>14.0</td>\n",
       "      <td>0.0</td>\n",
       "      <td>29.0</td>\n",
       "      <td>33.0</td>\n",
       "      <td>3.0</td>\n",
       "    </tr>\n",
       "    <tr>\n",
       "      <th>2004-01-18</th>\n",
       "      <td>23.018167</td>\n",
       "      <td>14.0</td>\n",
       "      <td>13.0</td>\n",
       "      <td>37.0</td>\n",
       "      <td>46.0</td>\n",
       "      <td>2.0</td>\n",
       "    </tr>\n",
       "    <tr>\n",
       "      <th>2004-01-25</th>\n",
       "      <td>22.244013</td>\n",
       "      <td>14.0</td>\n",
       "      <td>13.0</td>\n",
       "      <td>26.0</td>\n",
       "      <td>47.0</td>\n",
       "      <td>4.0</td>\n",
       "    </tr>\n",
       "    <tr>\n",
       "      <th>2004-02-01</th>\n",
       "      <td>17.537159</td>\n",
       "      <td>14.0</td>\n",
       "      <td>13.0</td>\n",
       "      <td>15.0</td>\n",
       "      <td>40.0</td>\n",
       "      <td>3.0</td>\n",
       "    </tr>\n",
       "  </tbody>\n",
       "</table>\n",
       "</div>"
      ],
      "text/plain": [
       "               Canada  soreThroat  diarrhea  cough  fever  flu\n",
       "Date                                                          \n",
       "2004-01-04  37.665153        16.0       0.0   24.0   29.0  3.0\n",
       "2004-01-11  29.582989        14.0       0.0   29.0   33.0  3.0\n",
       "2004-01-18  23.018167        14.0      13.0   37.0   46.0  2.0\n",
       "2004-01-25  22.244013        14.0      13.0   26.0   47.0  4.0\n",
       "2004-02-01  17.537159        14.0      13.0   15.0   40.0  3.0"
      ]
     },
     "execution_count": 8,
     "metadata": {},
     "output_type": "execute_result"
    }
   ],
   "source": [
    "data.head()"
   ]
  },
  {
   "cell_type": "code",
   "execution_count": 6,
   "metadata": {
    "ExecuteTime": {
     "end_time": "2021-01-08T09:15:22.867797Z",
     "start_time": "2021-01-08T09:15:22.787876Z"
    }
   },
   "outputs": [
    {
     "data": {
      "text/html": [
       "<table class=\"simpletable\">\n",
       "<caption>OLS Regression Results</caption>\n",
       "<tr>\n",
       "  <th>Dep. Variable:</th>         <td>Canada</td>      <th>  R-squared:         </th> <td>   0.720</td> \n",
       "</tr>\n",
       "<tr>\n",
       "  <th>Model:</th>                   <td>OLS</td>       <th>  Adj. R-squared:    </th> <td>   0.713</td> \n",
       "</tr>\n",
       "<tr>\n",
       "  <th>Method:</th>             <td>Least Squares</td>  <th>  F-statistic:       </th> <td>   97.18</td> \n",
       "</tr>\n",
       "<tr>\n",
       "  <th>Date:</th>             <td>Fri, 08 Jan 2021</td> <th>  Prob (F-statistic):</th> <td>1.54e-145</td>\n",
       "</tr>\n",
       "<tr>\n",
       "  <th>Time:</th>                 <td>17:15:22</td>     <th>  Log-Likelihood:    </th> <td> -1950.3</td> \n",
       "</tr>\n",
       "<tr>\n",
       "  <th>No. Observations:</th>      <td>   582</td>      <th>  AIC:               </th> <td>   3933.</td> \n",
       "</tr>\n",
       "<tr>\n",
       "  <th>Df Residuals:</th>          <td>   566</td>      <th>  BIC:               </th> <td>   4003.</td> \n",
       "</tr>\n",
       "<tr>\n",
       "  <th>Df Model:</th>              <td>    15</td>      <th>                     </th>     <td> </td>    \n",
       "</tr>\n",
       "<tr>\n",
       "  <th>Covariance Type:</th>      <td>nonrobust</td>    <th>                     </th>     <td> </td>    \n",
       "</tr>\n",
       "</table>\n",
       "<table class=\"simpletable\">\n",
       "<tr>\n",
       "                 <td></td>                    <th>coef</th>     <th>std err</th>      <th>t</th>      <th>P>|t|</th>  <th>[0.025</th>    <th>0.975]</th>  \n",
       "</tr>\n",
       "<tr>\n",
       "  <th>Intercept</th>                       <td>  -21.9084</td> <td>   28.476</td> <td>   -0.769</td> <td> 0.442</td> <td>  -77.840</td> <td>   34.024</td>\n",
       "</tr>\n",
       "<tr>\n",
       "  <th>fever</th>                           <td>   -0.4399</td> <td>    0.689</td> <td>   -0.638</td> <td> 0.524</td> <td>   -1.794</td> <td>    0.914</td>\n",
       "</tr>\n",
       "<tr>\n",
       "  <th>soreThroat</th>                      <td>    1.6494</td> <td>    1.655</td> <td>    0.996</td> <td> 0.319</td> <td>   -1.602</td> <td>    4.901</td>\n",
       "</tr>\n",
       "<tr>\n",
       "  <th>fever:soreThroat</th>                <td>    0.0225</td> <td>    0.040</td> <td>    0.568</td> <td> 0.570</td> <td>   -0.055</td> <td>    0.100</td>\n",
       "</tr>\n",
       "<tr>\n",
       "  <th>diarrhea</th>                        <td>    1.8029</td> <td>    0.986</td> <td>    1.828</td> <td> 0.068</td> <td>   -0.135</td> <td>    3.741</td>\n",
       "</tr>\n",
       "<tr>\n",
       "  <th>fever:diarrhea</th>                  <td>   -0.0203</td> <td>    0.023</td> <td>   -0.882</td> <td> 0.378</td> <td>   -0.066</td> <td>    0.025</td>\n",
       "</tr>\n",
       "<tr>\n",
       "  <th>soreThroat:diarrhea</th>             <td>   -0.0809</td> <td>    0.042</td> <td>   -1.923</td> <td> 0.055</td> <td>   -0.164</td> <td>    0.002</td>\n",
       "</tr>\n",
       "<tr>\n",
       "  <th>fever:soreThroat:diarrhea</th>       <td>    0.0003</td> <td>    0.001</td> <td>    0.380</td> <td> 0.704</td> <td>   -0.001</td> <td>    0.002</td>\n",
       "</tr>\n",
       "<tr>\n",
       "  <th>cough</th>                           <td>    1.6500</td> <td>    0.855</td> <td>    1.930</td> <td> 0.054</td> <td>   -0.029</td> <td>    3.329</td>\n",
       "</tr>\n",
       "<tr>\n",
       "  <th>fever:cough</th>                     <td>    0.0183</td> <td>    0.019</td> <td>    0.955</td> <td> 0.340</td> <td>   -0.019</td> <td>    0.056</td>\n",
       "</tr>\n",
       "<tr>\n",
       "  <th>soreThroat:cough</th>                <td>   -0.1007</td> <td>    0.036</td> <td>   -2.800</td> <td> 0.005</td> <td>   -0.171</td> <td>   -0.030</td>\n",
       "</tr>\n",
       "<tr>\n",
       "  <th>fever:soreThroat:cough</th>          <td>    0.0002</td> <td>    0.001</td> <td>    0.311</td> <td> 0.756</td> <td>   -0.001</td> <td>    0.002</td>\n",
       "</tr>\n",
       "<tr>\n",
       "  <th>diarrhea:cough</th>                  <td>   -0.0807</td> <td>    0.022</td> <td>   -3.666</td> <td> 0.000</td> <td>   -0.124</td> <td>   -0.037</td>\n",
       "</tr>\n",
       "<tr>\n",
       "  <th>fever:diarrhea:cough</th>            <td>    0.0007</td> <td>    0.000</td> <td>    1.784</td> <td> 0.075</td> <td>-7.31e-05</td> <td>    0.002</td>\n",
       "</tr>\n",
       "<tr>\n",
       "  <th>soreThroat:diarrhea:cough</th>       <td>    0.0035</td> <td>    0.001</td> <td>    4.282</td> <td> 0.000</td> <td>    0.002</td> <td>    0.005</td>\n",
       "</tr>\n",
       "<tr>\n",
       "  <th>fever:soreThroat:diarrhea:cough</th> <td>-2.928e-05</td> <td>  1.3e-05</td> <td>   -2.257</td> <td> 0.024</td> <td>-5.48e-05</td> <td> -3.8e-06</td>\n",
       "</tr>\n",
       "</table>\n",
       "<table class=\"simpletable\">\n",
       "<tr>\n",
       "  <th>Omnibus:</th>       <td>81.408</td> <th>  Durbin-Watson:     </th> <td>   0.605</td>\n",
       "</tr>\n",
       "<tr>\n",
       "  <th>Prob(Omnibus):</th> <td> 0.000</td> <th>  Jarque-Bera (JB):  </th> <td> 179.945</td>\n",
       "</tr>\n",
       "<tr>\n",
       "  <th>Skew:</th>          <td> 0.767</td> <th>  Prob(JB):          </th> <td>8.42e-40</td>\n",
       "</tr>\n",
       "<tr>\n",
       "  <th>Kurtosis:</th>      <td> 5.251</td> <th>  Cond. No.          </th> <td>3.21e+08</td>\n",
       "</tr>\n",
       "</table><br/><br/>Warnings:<br/>[1] Standard Errors assume that the covariance matrix of the errors is correctly specified.<br/>[2] The condition number is large, 3.21e+08. This might indicate that there are<br/>strong multicollinearity or other numerical problems."
      ],
      "text/plain": [
       "<class 'statsmodels.iolib.summary.Summary'>\n",
       "\"\"\"\n",
       "                            OLS Regression Results                            \n",
       "==============================================================================\n",
       "Dep. Variable:                 Canada   R-squared:                       0.720\n",
       "Model:                            OLS   Adj. R-squared:                  0.713\n",
       "Method:                 Least Squares   F-statistic:                     97.18\n",
       "Date:                Fri, 08 Jan 2021   Prob (F-statistic):          1.54e-145\n",
       "Time:                        17:15:22   Log-Likelihood:                -1950.3\n",
       "No. Observations:                 582   AIC:                             3933.\n",
       "Df Residuals:                     566   BIC:                             4003.\n",
       "Df Model:                          15                                         \n",
       "Covariance Type:            nonrobust                                         \n",
       "===================================================================================================\n",
       "                                      coef    std err          t      P>|t|      [0.025      0.975]\n",
       "---------------------------------------------------------------------------------------------------\n",
       "Intercept                         -21.9084     28.476     -0.769      0.442     -77.840      34.024\n",
       "fever                              -0.4399      0.689     -0.638      0.524      -1.794       0.914\n",
       "soreThroat                          1.6494      1.655      0.996      0.319      -1.602       4.901\n",
       "fever:soreThroat                    0.0225      0.040      0.568      0.570      -0.055       0.100\n",
       "diarrhea                            1.8029      0.986      1.828      0.068      -0.135       3.741\n",
       "fever:diarrhea                     -0.0203      0.023     -0.882      0.378      -0.066       0.025\n",
       "soreThroat:diarrhea                -0.0809      0.042     -1.923      0.055      -0.164       0.002\n",
       "fever:soreThroat:diarrhea           0.0003      0.001      0.380      0.704      -0.001       0.002\n",
       "cough                               1.6500      0.855      1.930      0.054      -0.029       3.329\n",
       "fever:cough                         0.0183      0.019      0.955      0.340      -0.019       0.056\n",
       "soreThroat:cough                   -0.1007      0.036     -2.800      0.005      -0.171      -0.030\n",
       "fever:soreThroat:cough              0.0002      0.001      0.311      0.756      -0.001       0.002\n",
       "diarrhea:cough                     -0.0807      0.022     -3.666      0.000      -0.124      -0.037\n",
       "fever:diarrhea:cough                0.0007      0.000      1.784      0.075   -7.31e-05       0.002\n",
       "soreThroat:diarrhea:cough           0.0035      0.001      4.282      0.000       0.002       0.005\n",
       "fever:soreThroat:diarrhea:cough -2.928e-05    1.3e-05     -2.257      0.024   -5.48e-05    -3.8e-06\n",
       "==============================================================================\n",
       "Omnibus:                       81.408   Durbin-Watson:                   0.605\n",
       "Prob(Omnibus):                  0.000   Jarque-Bera (JB):              179.945\n",
       "Skew:                           0.767   Prob(JB):                     8.42e-40\n",
       "Kurtosis:                       5.251   Cond. No.                     3.21e+08\n",
       "==============================================================================\n",
       "\n",
       "Warnings:\n",
       "[1] Standard Errors assume that the covariance matrix of the errors is correctly specified.\n",
       "[2] The condition number is large, 3.21e+08. This might indicate that there are\n",
       "strong multicollinearity or other numerical problems.\n",
       "\"\"\""
      ]
     },
     "execution_count": 6,
     "metadata": {},
     "output_type": "execute_result"
    }
   ],
   "source": [
    "model = smf.ols('Canada ~ fever*soreThroat*diarrhea*cough',data=data).fit()\n",
    "model.summary()"
   ]
  },
  {
   "cell_type": "code",
   "execution_count": 7,
   "metadata": {
    "ExecuteTime": {
     "end_time": "2021-01-08T09:15:35.295529Z",
     "start_time": "2021-01-08T09:15:35.086640Z"
    }
   },
   "outputs": [
    {
     "data": {
      "image/png": "[encoded data removed]",
      "text/plain": [
       "<Figure size 432x288 with 1 Axes>"
      ]
     },
     "metadata": {
      "needs_background": "light"
     },
     "output_type": "display_data"
    }
   ],
   "source": [
    "plt.clf()\n",
    "model.fittedvalues.plot(label='Fitted')\n",
    "data['Canada'].plot(label='Data')\n",
    "plt.legend(loc='best')\n",
    "plt.show() #to show the plot"
   ]
  },
  {
   "cell_type": "markdown",
   "metadata": {},
   "source": [
    "https://research.google.com/archive/papers/detecting-influenza-epidemics.pdf\n"
   ]
  },
  {
   "cell_type": "code",
   "execution_count": null,
   "metadata": {},
   "outputs": [],
   "source": []
  }
 ],
 "metadata": {
  "jupytext": {
   "cell_metadata_filter": "-all",
   "notebook_metadata_filter": "-all",
   "text_representation": {
    "extension": ".py",
    "format_name": "light"
   }
  },
  "kernelspec": {
   "display_name": "Python 3",
   "language": "python",
   "name": "python3"
  },
  "language_info": {
   "codemirror_mode": {
    "name": "ipython",
    "version": 3
   },
   "file_extension": ".py",
   "mimetype": "text/x-python",
   "name": "python",
   "nbconvert_exporter": "python",
   "pygments_lexer": "ipython3",
   "version": "3.7.6"
  },
  "toc": {
   "base_numbering": 1,
   "nav_menu": {},
   "number_sections": false,
   "sideBar": true,
   "skip_h1_title": false,
   "title_cell": "Table of Contents",
   "title_sidebar": "Contents",
   "toc_cell": false,
   "toc_position": {},
   "toc_section_display": true,
   "toc_window_display": true
  }
 },
 "nbformat": 4,
 "nbformat_minor": 4
}
