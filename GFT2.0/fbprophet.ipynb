{
 "cells": [
  {
   "cell_type": "markdown",
   "metadata": {},
   "source": [
    "# Prophet: Automatic Forecasting Procedure\n",
    "\n",
    "\n",
    "https://github.com/facebook/prophet"
   ]
  },
  {
   "cell_type": "code",
   "execution_count": 11,
   "metadata": {
    "ExecuteTime": {
     "end_time": "2021-01-08T12:18:30.974696Z",
     "start_time": "2021-01-08T12:18:25.514556Z"
    }
   },
   "outputs": [
    {
     "name": "stdout",
     "output_type": "stream",
     "text": [
      "Requirement already satisfied: pystan in /opt/anaconda3/lib/python3.7/site-packages (2.19.1.1)\n",
      "Requirement already satisfied: numpy>=1.7 in /opt/anaconda3/lib/python3.7/site-packages (from pystan) (1.18.1)\n",
      "Requirement already satisfied: Cython!=0.25.1,>=0.22 in /opt/anaconda3/lib/python3.7/site-packages (from pystan) (0.29.15)\n",
      "Requirement already satisfied: fbprophet in /opt/anaconda3/lib/python3.7/site-packages (0.7.1)\n",
      "Requirement already satisfied: Cython>=0.22 in /opt/anaconda3/lib/python3.7/site-packages (from fbprophet) (0.29.15)\n",
      "Requirement already satisfied: cmdstanpy==0.9.5 in /opt/anaconda3/lib/python3.7/site-packages (from fbprophet) (0.9.5)\n",
      "Requirement already satisfied: pystan>=2.14 in /opt/anaconda3/lib/python3.7/site-packages (from fbprophet) (2.19.1.1)\n",
      "Requirement already satisfied: numpy>=1.15.4 in /opt/anaconda3/lib/python3.7/site-packages (from fbprophet) (1.18.1)\n",
      "Requirement already satisfied: pandas>=1.0.4 in /opt/anaconda3/lib/python3.7/site-packages (from fbprophet) (1.2.0)\n",
      "Requirement already satisfied: matplotlib>=2.0.0 in /opt/anaconda3/lib/python3.7/site-packages (from fbprophet) (3.1.3)\n",
      "Requirement already satisfied: LunarCalendar>=0.0.9 in /opt/anaconda3/lib/python3.7/site-packages (from fbprophet) (0.0.9)\n",
      "Requirement already satisfied: convertdate>=2.1.2 in /opt/anaconda3/lib/python3.7/site-packages (from fbprophet) (2.3.0)\n",
      "Requirement already satisfied: holidays>=0.10.2 in /opt/anaconda3/lib/python3.7/site-packages (from fbprophet) (0.10.4)\n",
      "Requirement already satisfied: setuptools-git>=1.2 in /opt/anaconda3/lib/python3.7/site-packages (from fbprophet) (1.2)\n",
      "Requirement already satisfied: python-dateutil>=2.8.0 in /opt/anaconda3/lib/python3.7/site-packages (from fbprophet) (2.8.1)\n",
      "Requirement already satisfied: tqdm>=4.36.1 in /opt/anaconda3/lib/python3.7/site-packages (from fbprophet) (4.42.1)\n",
      "Requirement already satisfied: pytz>=2017.3 in /opt/anaconda3/lib/python3.7/site-packages (from pandas>=1.0.4->fbprophet) (2019.3)\n",
      "Requirement already satisfied: cycler>=0.10 in /opt/anaconda3/lib/python3.7/site-packages (from matplotlib>=2.0.0->fbprophet) (0.10.0)\n",
      "Requirement already satisfied: kiwisolver>=1.0.1 in /opt/anaconda3/lib/python3.7/site-packages (from matplotlib>=2.0.0->fbprophet) (1.1.0)\n",
      "Requirement already satisfied: pyparsing!=2.0.4,!=2.1.2,!=2.1.6,>=2.0.1 in /opt/anaconda3/lib/python3.7/site-packages (from matplotlib>=2.0.0->fbprophet) (2.4.6)\n",
      "Requirement already satisfied: ephem>=3.7.5.3 in /opt/anaconda3/lib/python3.7/site-packages (from LunarCalendar>=0.0.9->fbprophet) (3.7.7.1)\n",
      "Requirement already satisfied: pymeeus<=1,>=0.3.6 in /opt/anaconda3/lib/python3.7/site-packages (from convertdate>=2.1.2->fbprophet) (0.3.7)\n",
      "Requirement already satisfied: six in /opt/anaconda3/lib/python3.7/site-packages (from holidays>=0.10.2->fbprophet) (1.14.0)\n",
      "Requirement already satisfied: korean-lunar-calendar in /opt/anaconda3/lib/python3.7/site-packages (from holidays>=0.10.2->fbprophet) (0.2.1)\n",
      "Requirement already satisfied: setuptools in /opt/anaconda3/lib/python3.7/site-packages (from kiwisolver>=1.0.1->matplotlib>=2.0.0->fbprophet) (46.0.0.post20200309)\n"
     ]
    }
   ],
   "source": [
    "# Install pystan with pip before using pip to install fbprophet\n",
    "!pip install pystan\n",
    "\n",
    "!pip install fbprophet"
   ]
  },
  {
   "cell_type": "code",
   "execution_count": 3,
   "metadata": {
    "ExecuteTime": {
     "end_time": "2021-01-08T12:07:20.341429Z",
     "start_time": "2021-01-08T12:07:19.018330Z"
    }
   },
   "outputs": [],
   "source": [
    "# Python\n",
    "import pandas as pd\n",
    "from fbprophet import Prophet\n"
   ]
  },
  {
   "cell_type": "code",
   "execution_count": 4,
   "metadata": {
    "ExecuteTime": {
     "end_time": "2021-01-08T12:08:51.531509Z",
     "start_time": "2021-01-08T12:08:51.505337Z"
    }
   },
   "outputs": [],
   "source": [
    "df = pd.read_csv('./parable/ParableOfGFT(Replication).csv')"
   ]
  },
  {
   "cell_type": "code",
   "execution_count": 5,
   "metadata": {
    "ExecuteTime": {
     "end_time": "2021-01-08T12:09:00.102776Z",
     "start_time": "2021-01-08T12:09:00.076020Z"
    }
   },
   "outputs": [
    {
     "data": {
      "text/html": [
       "<div>\n",
       "<style scoped>\n",
       "    .dataframe tbody tr th:only-of-type {\n",
       "        vertical-align: middle;\n",
       "    }\n",
       "\n",
       "    .dataframe tbody tr th {\n",
       "        vertical-align: top;\n",
       "    }\n",
       "\n",
       "    .dataframe thead th {\n",
       "        text-align: right;\n",
       "    }\n",
       "</style>\n",
       "<table border=\"1\" class=\"dataframe\">\n",
       "  <thead>\n",
       "    <tr style=\"text-align: right;\">\n",
       "      <th></th>\n",
       "      <th>date</th>\n",
       "      <th>gflu</th>\n",
       "      <th>source1</th>\n",
       "      <th>cflu</th>\n",
       "      <th>source2</th>\n",
       "      <th>dif</th>\n",
       "      <th>pdif</th>\n",
       "      <th>sweek</th>\n",
       "      <th>swweekly</th>\n",
       "      <th>week</th>\n",
       "      <th>...</th>\n",
       "      <th>r6c3neg</th>\n",
       "      <th>r6c3pos</th>\n",
       "      <th>r7c1neg</th>\n",
       "      <th>r7c1pos</th>\n",
       "      <th>r7c2neg</th>\n",
       "      <th>r7c2pos</th>\n",
       "      <th>r8c1neg</th>\n",
       "      <th>r8c1pos</th>\n",
       "      <th>cdifdeflu09</th>\n",
       "      <th>oos</th>\n",
       "    </tr>\n",
       "  </thead>\n",
       "  <tbody>\n",
       "    <tr>\n",
       "      <th>0</th>\n",
       "      <td>2003-09-28</td>\n",
       "      <td>0.902</td>\n",
       "      <td>Google Flu</td>\n",
       "      <td>0.884021</td>\n",
       "      <td>CDC</td>\n",
       "      <td>0.017979</td>\n",
       "      <td>0.020338</td>\n",
       "      <td>28sep2003</td>\n",
       "      <td>2003w39</td>\n",
       "      <td>39</td>\n",
       "      <td>...</td>\n",
       "      <td>NaN</td>\n",
       "      <td>NaN</td>\n",
       "      <td>NaN</td>\n",
       "      <td>NaN</td>\n",
       "      <td>NaN</td>\n",
       "      <td>NaN</td>\n",
       "      <td>NaN</td>\n",
       "      <td>NaN</td>\n",
       "      <td>NaN</td>\n",
       "      <td>NaN</td>\n",
       "    </tr>\n",
       "    <tr>\n",
       "      <th>1</th>\n",
       "      <td>2003-10-05</td>\n",
       "      <td>0.952</td>\n",
       "      <td>Google Flu</td>\n",
       "      <td>1.027731</td>\n",
       "      <td>CDC</td>\n",
       "      <td>-0.075730</td>\n",
       "      <td>-0.073687</td>\n",
       "      <td>05oct2003</td>\n",
       "      <td>2003w40</td>\n",
       "      <td>40</td>\n",
       "      <td>...</td>\n",
       "      <td>NaN</td>\n",
       "      <td>NaN</td>\n",
       "      <td>NaN</td>\n",
       "      <td>NaN</td>\n",
       "      <td>NaN</td>\n",
       "      <td>NaN</td>\n",
       "      <td>NaN</td>\n",
       "      <td>NaN</td>\n",
       "      <td>NaN</td>\n",
       "      <td>NaN</td>\n",
       "    </tr>\n",
       "    <tr>\n",
       "      <th>2</th>\n",
       "      <td>2003-10-12</td>\n",
       "      <td>1.092</td>\n",
       "      <td>Google Flu</td>\n",
       "      <td>1.282964</td>\n",
       "      <td>CDC</td>\n",
       "      <td>-0.190964</td>\n",
       "      <td>-0.148846</td>\n",
       "      <td>12oct2003</td>\n",
       "      <td>2003w41</td>\n",
       "      <td>41</td>\n",
       "      <td>...</td>\n",
       "      <td>NaN</td>\n",
       "      <td>NaN</td>\n",
       "      <td>-0.002985</td>\n",
       "      <td>-0.386717</td>\n",
       "      <td>NaN</td>\n",
       "      <td>NaN</td>\n",
       "      <td>NaN</td>\n",
       "      <td>NaN</td>\n",
       "      <td>NaN</td>\n",
       "      <td>NaN</td>\n",
       "    </tr>\n",
       "    <tr>\n",
       "      <th>3</th>\n",
       "      <td>2003-10-19</td>\n",
       "      <td>1.209</td>\n",
       "      <td>Google Flu</td>\n",
       "      <td>1.326605</td>\n",
       "      <td>CDC</td>\n",
       "      <td>-0.117605</td>\n",
       "      <td>-0.088651</td>\n",
       "      <td>19oct2003</td>\n",
       "      <td>2003w42</td>\n",
       "      <td>42</td>\n",
       "      <td>...</td>\n",
       "      <td>NaN</td>\n",
       "      <td>NaN</td>\n",
       "      <td>-0.001485</td>\n",
       "      <td>-0.269350</td>\n",
       "      <td>-0.000078</td>\n",
       "      <td>-0.270757</td>\n",
       "      <td>0.001407</td>\n",
       "      <td>-0.269272</td>\n",
       "      <td>0.176357</td>\n",
       "      <td>NaN</td>\n",
       "    </tr>\n",
       "    <tr>\n",
       "      <th>4</th>\n",
       "      <td>2003-10-26</td>\n",
       "      <td>1.249</td>\n",
       "      <td>Google Flu</td>\n",
       "      <td>1.773040</td>\n",
       "      <td>CDC</td>\n",
       "      <td>-0.524040</td>\n",
       "      <td>-0.295560</td>\n",
       "      <td>26oct2003</td>\n",
       "      <td>2003w43</td>\n",
       "      <td>43</td>\n",
       "      <td>...</td>\n",
       "      <td>0.177842</td>\n",
       "      <td>-0.589298</td>\n",
       "      <td>-0.006280</td>\n",
       "      <td>-0.778133</td>\n",
       "      <td>-0.008636</td>\n",
       "      <td>-0.775777</td>\n",
       "      <td>-0.002356</td>\n",
       "      <td>-0.769497</td>\n",
       "      <td>0.056202</td>\n",
       "      <td>NaN</td>\n",
       "    </tr>\n",
       "  </tbody>\n",
       "</table>\n",
       "<p>5 rows × 132 columns</p>\n",
       "</div>"
      ],
      "text/plain": [
       "         date   gflu     source1      cflu source2       dif      pdif  \\\n",
       "0  2003-09-28  0.902  Google Flu  0.884021     CDC  0.017979  0.020338   \n",
       "1  2003-10-05  0.952  Google Flu  1.027731     CDC -0.075730 -0.073687   \n",
       "2  2003-10-12  1.092  Google Flu  1.282964     CDC -0.190964 -0.148846   \n",
       "3  2003-10-19  1.209  Google Flu  1.326605     CDC -0.117605 -0.088651   \n",
       "4  2003-10-26  1.249  Google Flu  1.773040     CDC -0.524040 -0.295560   \n",
       "\n",
       "       sweek swweekly  week  ...   r6c3neg   r6c3pos   r7c1neg   r7c1pos  \\\n",
       "0  28sep2003  2003w39    39  ...       NaN       NaN       NaN       NaN   \n",
       "1  05oct2003  2003w40    40  ...       NaN       NaN       NaN       NaN   \n",
       "2  12oct2003  2003w41    41  ...       NaN       NaN -0.002985 -0.386717   \n",
       "3  19oct2003  2003w42    42  ...       NaN       NaN -0.001485 -0.269350   \n",
       "4  26oct2003  2003w43    43  ...  0.177842 -0.589298 -0.006280 -0.778133   \n",
       "\n",
       "    r7c2neg   r7c2pos   r8c1neg   r8c1pos  cdifdeflu09  oos  \n",
       "0       NaN       NaN       NaN       NaN          NaN  NaN  \n",
       "1       NaN       NaN       NaN       NaN          NaN  NaN  \n",
       "2       NaN       NaN       NaN       NaN          NaN  NaN  \n",
       "3 -0.000078 -0.270757  0.001407 -0.269272     0.176357  NaN  \n",
       "4 -0.008636 -0.775777 -0.002356 -0.769497     0.056202  NaN  \n",
       "\n",
       "[5 rows x 132 columns]"
      ]
     },
     "execution_count": 5,
     "metadata": {},
     "output_type": "execute_result"
    }
   ],
   "source": [
    "df.head()"
   ]
  },
  {
   "cell_type": "code",
   "execution_count": 10,
   "metadata": {
    "ExecuteTime": {
     "end_time": "2021-01-08T12:09:44.269582Z",
     "start_time": "2021-01-08T12:09:44.256278Z"
    }
   },
   "outputs": [
    {
     "name": "stdout",
     "output_type": "stream",
     "text": [
      "date gflu source1 cflu source2 dif pdif sweek swweekly week lcflu lcflu3 lcflu4 lcflu5 dif_2 dif_3 dif2 absdif s3dlscflu09 s3difdcflu09 s3difdcflu092 s3adifdcflu09 s3degflu09 s3difdeflu09 s3difdeflu092 s3adifdeflu09 s2dlscflu09 s2difdcflu09 s2difdcflu092 s2adifdcflu09 s1dlscflu09 s1difdcflu09 s1difdcflu092 s1adifdcflu09 dlscflu09 difdcflu09 difdcflu092 adifdcflu09 s2degflu09 s2difdeflu09 s2difdeflu092 s2adifdeflu09 s1degflu09 s1difdeflu09 s1difdeflu092 s1adifdeflu09 degflu09 difdeflu09 difdeflu092 adifdeflu09 dlscflul3 difdcflul3 difdcflul32 adifdcflul3 degflul3 difdeflul3 difdeflul32 adifdeflul3 r1c1neg r1c1pos r1c2neg r1c2pos r1c3neg r1c3pos r1c4neg r1c4pos r1c5neg r1c5pos r1c6neg r1c6pos r1c7neg r1c7pos r1c8neg r1c8pos r2c1neg r2c1pos r2c2neg r2c2pos r2c3neg r2c3pos r2c4neg r2c4pos r2c5neg r2c5pos r2c6neg r2c6pos r2c7neg r2c7pos r3c1neg r3c1pos r3c2neg r3c2pos r3c3neg r3c3pos r3c4neg r3c4pos r3c5neg r3c5pos r3c6neg r3c6pos r4c1neg r4c1pos r4c2neg r4c2pos r4c3neg r4c3pos r4c4neg r4c4pos r4c5neg r4c5pos r5c1neg r5c1pos r5c2neg r5c2pos r5c3neg r5c3pos r5c4neg r5c4pos r6c1neg r6c1pos r6c2neg r6c2pos r6c3neg r6c3pos r7c1neg r7c1pos r7c2neg r7c2pos r8c1neg r8c1pos cdifdeflu09 oos\n"
     ]
    }
   ],
   "source": [
    "print(*df.columns.tolist())"
   ]
  },
  {
   "cell_type": "code",
   "execution_count": null,
   "metadata": {},
   "outputs": [],
   "source": [
    "# Python\n",
    "m = Prophet()\n",
    "m.fit(df)"
   ]
  }
 ],
 "metadata": {
  "kernelspec": {
   "display_name": "Python 3",
   "language": "python",
   "name": "python3"
  },
  "language_info": {
   "codemirror_mode": {
    "name": "ipython",
    "version": 3
   },
   "file_extension": ".py",
   "mimetype": "text/x-python",
   "name": "python",
   "nbconvert_exporter": "python",
   "pygments_lexer": "ipython3",
   "version": "3.7.6"
  },
  "toc": {
   "base_numbering": 1,
   "nav_menu": {},
   "number_sections": false,
   "sideBar": true,
   "skip_h1_title": false,
   "title_cell": "Table of Contents",
   "title_sidebar": "Contents",
   "toc_cell": false,
   "toc_position": {},
   "toc_section_display": true,
   "toc_window_display": true
  }
 },
 "nbformat": 4,
 "nbformat_minor": 4
}
